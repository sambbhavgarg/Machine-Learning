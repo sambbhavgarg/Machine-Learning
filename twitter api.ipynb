{
 "cells": [
  {
   "cell_type": "code",
   "execution_count": 1,
   "metadata": {},
   "outputs": [],
   "source": [
    "from tweepy.streaming import StreamListener\n",
    "from tweepy import OAuthHandler\n",
    "from tweepy import Stream\n",
    "import tweepy"
   ]
  },
  {
   "cell_type": "code",
   "execution_count": 2,
   "metadata": {},
   "outputs": [],
   "source": [
    "access_token = \"1097150877645758465-t65mbk2hZtgiLQ73nJC56OODJyk59O\"\n",
    "access_token_secret = \"wMITyB01zKMXKr3x1y2lwzXVAmUNSiXZhmlgDwnF1d7zo\"\n",
    "consumer_key = \"jWdekSKwFbYjPvhNtfSxeScsW\"\n",
    "consumer_secret = \"xycii2z35cwuyhs4NyVVvWmOmizAaSJz0cVsdig9LE8VgUsaxA\""
   ]
  },
  {
   "cell_type": "code",
   "execution_count": 3,
   "metadata": {},
   "outputs": [],
   "source": [
    "#this is a basic listener that just prints received tweets to stdout\n",
    "class StdOutListener(StreamListener):\n",
    "    def on_data(self, data):\n",
    "        print (data)\n",
    "        return True\n",
    "    \n",
    "    def on_error(self, status):\n",
    "        print (status)"
   ]
  },
  {
   "cell_type": "code",
   "execution_count": 4,
   "metadata": {},
   "outputs": [],
   "source": [
    "if __name__ == '__main__':\n",
    "    \n",
    "    #This handles Twitter auth. and the connection to twitter ac\n",
    "    l = StdOutListener()\n",
    "    auth = OAuthHandler(consumer_key, consumer_secret)\n",
    "    auth.set_access_token(access_token, access_token_secret)\n",
    "    stream = Stream(auth, l)\n",
    "    api = tweepy.API(auth)\n",
    "    \n",
    "    #This line filters Twitter STreams to capture data by the keyword\n",
    "    #stream.filter (track = ['python', 'javascript', 'ruby'])"
   ]
  },
  {
   "cell_type": "code",
   "execution_count": 5,
   "metadata": {},
   "outputs": [
    {
     "name": "stdout",
     "output_type": "stream",
     "text": [
      "NAme: Sambbhav Garg\n",
      "Location: \n",
      "Friends: 0\n"
     ]
    }
   ],
   "source": [
    "user = api.me()\n",
    "#print(user)    user ki saari details   \n",
    "print('NAme: ' + user.name)\n",
    "print('Location: ' + user.location)\n",
    "print('Friends: ' + str(user.friends_count))"
   ]
  },
  {
   "cell_type": "code",
   "execution_count": 10,
   "metadata": {},
   "outputs": [],
   "source": [
    "number_of_tweets = 2000\n",
    "tweets = api.user_timeline(screen_name='narendramodi',count=10)\n",
    "datet = []\n",
    "for tweet in tweets:\n",
    "    datet.append(tweet.created_at)\n",
    "    #empty array\n",
    "tmp = []\n",
    "\n",
    "tweets_for_csv = [tweet.text for tweet in tweets]  #CSV file created\n",
    "for j in tweets_for_csv:\n",
    "    tmp.append(j)"
   ]
  },
  {
   "cell_type": "code",
   "execution_count": 11,
   "metadata": {},
   "outputs": [
    {
     "data": {
      "text/plain": [
       "['Speaking at the National Youth Parliament Festival 2019. Watch. https://t.co/AQrnxGjhFp',\n",
       " 'Travelled to the ISKCON temple and back via the Delhi Metro. \\n\\nHad delightful interactions with fellow passengers. https://t.co/SFYo5LHCVo',\n",
       " 'Here are some images from the Gita Aradhana Mahotsav at Delhi’s iconic ISKCON temple. \\n\\nUnveiled a Bhagwad Gita tha… https://t.co/NqXiwDpZpM',\n",
       " 'May the lamp of progress and prosperity shine brighter and brighter in every home. \\n\\nJoin crores of beneficiaries o… https://t.co/XH91l0P0CD',\n",
       " 'The Gita teaches us harmony and brotherhood. Addressing a programme at Delhi’s ISKCON temple. https://t.co/iAt7b9r0DF',\n",
       " 'सौगंध मुझे इस मिट्टी की, मैं देश नहीं झुकने दूंगा... https://t.co/XJkxa1HLQR',\n",
       " 'वीरों की भूमि, राजस्थान के चुरू से देखिए मेरा संबोधन... https://t.co/io2JE7aFR9',\n",
       " 'Honouring those who have been conferred the Gandhi Peace Prize. Watch my remarks. https://t.co/4arAhGiGag',\n",
       " 'Spoke on a widely discussed topic - jobs... https://t.co/NWUh1rSa58',\n",
       " 'I found it surprising that the Congress would oppose Aadhaar but the reasons are now clear. Know why... https://t.co/VeLke2YYxU']"
      ]
     },
     "execution_count": 11,
     "metadata": {},
     "output_type": "execute_result"
    }
   ],
   "source": [
    "tmp"
   ]
  },
  {
   "cell_type": "code",
   "execution_count": 12,
   "metadata": {},
   "outputs": [
    {
     "data": {
      "text/plain": [
       "10"
      ]
     },
     "execution_count": 12,
     "metadata": {},
     "output_type": "execute_result"
    }
   ],
   "source": [
    "len(tmp)"
   ]
  },
  {
   "cell_type": "code",
   "execution_count": 13,
   "metadata": {},
   "outputs": [
    {
     "ename": "ModuleNotFoundError",
     "evalue": "No module named 'countryinfo'",
     "output_type": "error",
     "traceback": [
      "\u001b[0;31m---------------------------------------------------------------------------\u001b[0m",
      "\u001b[0;31mModuleNotFoundError\u001b[0m                       Traceback (most recent call last)",
      "\u001b[0;32m<ipython-input-13-c93d491a1c14>\u001b[0m in \u001b[0;36m<module>\u001b[0;34m\u001b[0m\n\u001b[0;32m----> 1\u001b[0;31m \u001b[0;32mimport\u001b[0m \u001b[0mcountryinfo\u001b[0m\u001b[0;34m\u001b[0m\u001b[0;34m\u001b[0m\u001b[0m\n\u001b[0m",
      "\u001b[0;31mModuleNotFoundError\u001b[0m: No module named 'countryinfo'"
     ]
    }
   ],
   "source": [
    "import countryinfo"
   ]
  },
  {
   "cell_type": "code",
   "execution_count": null,
   "metadata": {},
   "outputs": [],
   "source": [
    "#take 3 delegates and no of tweets\n"
   ]
  }
 ],
 "metadata": {
  "kernelspec": {
   "display_name": "Python 3",
   "language": "python",
   "name": "python3"
  },
  "language_info": {
   "codemirror_mode": {
    "name": "ipython",
    "version": 3
   },
   "file_extension": ".py",
   "mimetype": "text/x-python",
   "name": "python",
   "nbconvert_exporter": "python",
   "pygments_lexer": "ipython3",
   "version": "3.7.1"
  }
 },
 "nbformat": 4,
 "nbformat_minor": 2
}
