{
 "cells": [
  {
   "cell_type": "code",
   "execution_count": 10,
   "metadata": {
    "scrolled": true
   },
   "outputs": [
    {
     "name": "stdout",
     "output_type": "stream",
     "text": [
      "Welcome to Expressoself! What is that one thing in your life you cant livewithout? should be a one word answer preceeded by your first name. eg. 'Sambbhav Air' \n",
      "Some of our previous customers: \n",
      "Salim : mobile\n",
      "Ahmed : programming\n",
      "Age: 16\n",
      "sambbhav : air\n",
      "['cooking is fun']\n"
     ]
    }
   ],
   "source": [
    "name=[\"Salim\", \"Ahmed\"]#op1\n",
    "clw_wish=[\"mobile\",\"programming\"]\n",
    "print(\"Welcome to Expressoself! What is that one thing in your life you cant live\"\n",
    "      \"without? should be a one word answer preceeded by your first name. eg. 'Sambbhav Air' \")\n",
    "print(\"Some of our previous customers: \") #op2\n",
    "for i in range(len(name)):#op3\n",
    "    print(name[i],\":\",clw_wish[i])\n",
    "    \n",
    "class checker:#op4\n",
    "            def __init__(self, age):#op5\n",
    "                    self.name=name\n",
    "                    self.age=age\n",
    "                    try:#op6\n",
    "                        val=int(self.age)\n",
    "                    except ValueError:\n",
    "                        print(\"Try again, not an INT\")   \n",
    "age=input(\"Age: \")#op7\n",
    "checker(age) \n",
    "\n",
    "name.append(\"sambbhav\")#op8\n",
    "clw_wish.append(\"air\")\n",
    "\n",
    "#removed salim #op18\n",
    "del name[0] \n",
    "del clw_wish[0]\n",
    "\n",
    "#removed ahmed #op19\n",
    "name.remove('Ahmed')\n",
    "clw_wish.remove('programming')\n",
    "\n",
    "for i in range(len(name)):\n",
    "    print(name[i],\":\",clw_wish[i])\n",
    "    \n",
    "\n",
    "file='sam.txt'#op13\n",
    "with open(file,'w') as file_object:#op14\n",
    "    file_object.write(\"cooking is fun\")#op15\n",
    "    \n",
    "file='sam.txt'\n",
    "with open(file) as file_object:#op16\n",
    "    text=file_object.readlines()#op17\n",
    "for x in text:\n",
    "    print(text)\n",
    "    "
   ]
  },
  {
   "cell_type": "code",
   "execution_count": 12,
   "metadata": {},
   "outputs": [
    {
     "name": "stdout",
     "output_type": "stream",
     "text": [
      "factorial of 7 is 5040\n"
     ]
    }
   ],
   "source": [
    "def facto(n):#op9\n",
    "    fact=1\n",
    "    if n==0:#op10\n",
    "        print(\"Factorial=1\")\n",
    "    elif n>0:\n",
    "        for x in range(2,n+1):\n",
    "            fact=fact*x #op11\n",
    "        print(\"factorial of\",n,\"is\",fact)\n",
    "    else:\n",
    "        print(\"invalid input\")\n",
    "facto(7)#op12\n",
    "    \n",
    "\n"
   ]
  },
  {
   "cell_type": "code",
   "execution_count": null,
   "metadata": {},
   "outputs": [],
   "source": []
  }
 ],
 "metadata": {
  "kernelspec": {
   "display_name": "Python 3",
   "language": "python",
   "name": "python3"
  },
  "language_info": {
   "codemirror_mode": {
    "name": "ipython",
    "version": 3
   },
   "file_extension": ".py",
   "mimetype": "text/x-python",
   "name": "python",
   "nbconvert_exporter": "python",
   "pygments_lexer": "ipython3",
   "version": "3.6.4"
  }
 },
 "nbformat": 4,
 "nbformat_minor": 2
}
