{
 "cells": [
  {
   "cell_type": "code",
   "execution_count": 30,
   "metadata": {},
   "outputs": [],
   "source": [
    "import matplotlib.pyplot as plt\n",
    "import numpy as np\n",
    "%matplotlib inline\n",
    "\n",
    "from numpy import genfromtxt\n",
    "from scipy.stats import multivariate_normal\n",
    "from sklearn.metrics import f1_score #gives gud accuracy "
   ]
  },
  {
   "cell_type": "code",
   "execution_count": 31,
   "metadata": {},
   "outputs": [
    {
     "data": {
      "text/plain": [
       "array([0.57142857, 0.4       ])"
      ]
     },
     "execution_count": 31,
     "metadata": {},
     "output_type": "execute_result"
    }
   ],
   "source": [
    "from sklearn.metrics import f1_score\n",
    "y_true = [0, 1, 0, 0, 1, 0]\n",
    "y_pred = [0, 1, 1, 0, 0, 1]\n",
    "f1_score(y_true, y_pred, average='binary')  \n",
    " \n",
    "\n",
    "f1_score(y_true, y_pred, average=None)\n"
   ]
  },
  {
   "cell_type": "code",
   "execution_count": 32,
   "metadata": {},
   "outputs": [
    {
     "name": "stdout",
     "output_type": "stream",
     "text": [
      "Number of datapoints in training set: 307\n",
      "Number of dimensions/features: 2\n",
      "[[13.409 13.763]\n",
      " [14.196 15.853]\n",
      " [14.915 16.174]\n",
      " [13.577 14.043]]\n"
     ]
    },
    {
     "data": {
      "image/png": "[encoded data removed]",
      "text/plain": [
       "<matplotlib.figure.Figure at 0x7f097f6e8fd0>"
      ]
     },
     "metadata": {},
     "output_type": "display_data"
    }
   ],
   "source": [
    "#tr_data = read_dataset('tr_server_data.csv') \n",
    "#cv_data = read_dataset('cv_server_data.csv') \n",
    "#gt_data = read_dataset('gt_server_data.csv')\n",
    "import csv\n",
    "import numpy\n",
    "filename = 'tr_server_data.csv'\n",
    "a2 ='cv_server_data.csv'\n",
    "a3 = 'gt_server_data.csv'\n",
    "\n",
    "#other option to handle files without using tdpandas as pd\n",
    "raw_data = open(filename, 'rt')\n",
    "reader = csv.reader(raw_data, delimiter=',', quoting=csv.QUOTE_NONE)\n",
    "x = list(reader)\n",
    "tr_data = numpy.array(x).astype('float')\n",
    "\n",
    "raw_data = open(a2, 'rt')\n",
    "reader = csv.reader(raw_data, delimiter=',', quoting=csv.QUOTE_NONE)\n",
    "x = list(reader)\n",
    "cv_data = numpy.array(x).astype('float')\n",
    "\n",
    "raw_data = open(a3, 'rt')\n",
    "reader = csv.reader(raw_data, delimiter=',', quoting=csv.QUOTE_NONE)\n",
    "x = list(reader)\n",
    "gt_data = numpy.array(x).astype('float')\n",
    "\n",
    "\n",
    "n_training_samples = tr_data.shape[0]\n",
    "n_dim = tr_data.shape[1]\n",
    "\n",
    "print('Number of datapoints in training set: %d' % n_training_samples)\n",
    "print('Number of dimensions/features: %d' % n_dim)\n",
    "\n",
    "\n",
    "print(tr_data[1:5,:])\n",
    "\n",
    "plt.xlabel('Latency (ms)')\n",
    "plt.ylabel('Throughput (mb/s)')\n",
    "plt.plot(tr_data[:,0],tr_data[:,1],'bx')\n",
    "plt.show()"
   ]
  },
  {
   "cell_type": "code",
   "execution_count": 33,
   "metadata": {},
   "outputs": [],
   "source": [
    "#def read_dataset(filePath,delimiter=','):\n",
    " #   return genfromtxt(filePath, delimiter=delimiter)\n",
    "\n",
    "def estimateGaussian(dataset):\n",
    "    mu = np.mean(dataset, axis=0)\n",
    "    sigma = np.cov(dataset.T)\n",
    "    return mu, sigma\n",
    "    \n",
    "def multivariateGaussian(dataset,mu,sigma):\n",
    "    p = multivariate_normal(mean=mu, cov=sigma)\n",
    "    return p.pdf(dataset)\n",
    "\n",
    "def selectThresholdByCV(probs,gt):\n",
    "    best_epsilon = 0\n",
    "    best_f1 = 0\n",
    "    f = 0\n",
    "    stepsize = (max(probs) - min(probs)) / 1000;\n",
    "    epsilons = np.arange(min(probs),max(probs),stepsize)\n",
    "    for epsilon in np.nditer(epsilons):\n",
    "\n",
    "        predictions = (probs < epsilon) \n",
    "        #print(predictions)\n",
    "        f = f1_score(gt, predictions,average='binary')\n",
    "        #print(f)\n",
    "        #print('------')\n",
    "        if f > best_f1:\n",
    "            #print('----')\n",
    "            best_f1 = f\n",
    "            best_epsilon = epsilon\n",
    "    \n",
    "    return best_f1, best_epsilon"
   ]
  },
  {
   "cell_type": "markdown",
   "metadata": {},
   "source": [
    "Gather a little more data and create a test set (another group of values) with labeled data. Labeled data means that you know if they were anomalies or not for each example in the set. Find at least a few examples which are anomalies. Make the predictions using a value of epsilon value (start with a low value). Calculate the F1 score for that epsilon (the F1 score of an epsilon is a value that tells you how accurate your predictions are with that epsilon ). The bigger the F1 , the better. Increment epsilon by a small value, calculate F1 for the new epsilon. Do this a couple of times and keep the epsilon with the best F1 score. Let’s see the math and an example:\n",
    "\n",
    "\n",
    "\n",
    "\n",
    "\n"
   ]
  },
  {
   "cell_type": "code",
   "execution_count": 34,
   "metadata": {},
   "outputs": [],
   "source": [
    "mu, sigma = estimateGaussian(tr_data)\n",
    "p = multivariateGaussian(tr_data,mu,sigma)"
   ]
  },
  {
   "cell_type": "code",
   "execution_count": 35,
   "metadata": {},
   "outputs": [
    {
     "name": "stderr",
     "output_type": "stream",
     "text": [
      "/home/sambbhav/anaconda3/lib/python3.6/site-packages/sklearn/metrics/classification.py:1135: UndefinedMetricWarning: F-score is ill-defined and being set to 0.0 due to no predicted samples.\n",
      "  'precision', 'predicted', average, warn_for)\n"
     ]
    },
    {
     "name": "stdout",
     "output_type": "stream",
     "text": [
      "0.8750000000000001\n",
      "9.036201327981216e-05\n"
     ]
    }
   ],
   "source": [
    "#selecting optimal value of epsilon using cross validation\n",
    "p_cv = multivariateGaussian(cv_data,mu,sigma)\n",
    "fscore, ep = selectThresholdByCV(p_cv,gt_data)\n",
    "print(fscore)\n",
    "print(ep)"
   ]
  },
  {
   "cell_type": "code",
   "execution_count": 36,
   "metadata": {},
   "outputs": [
    {
     "data": {
      "text/plain": [
       "array([[300, 301, 303, 304, 305, 306]])"
      ]
     },
     "execution_count": 36,
     "metadata": {},
     "output_type": "execute_result"
    }
   ],
   "source": [
    "#selecting outlier datapoints \n",
    "\n",
    "outliers = np.asarray(np.where(p < ep))\n",
    "outliers"
   ]
  },
  {
   "cell_type": "code",
   "execution_count": 37,
   "metadata": {},
   "outputs": [
    {
     "data": {
      "image/png": "[encoded data removed]",
      "text/plain": [
       "<matplotlib.figure.Figure at 0x7f09655be780>"
      ]
     },
     "metadata": {},
     "output_type": "display_data"
    }
   ],
   "source": [
    "plt.figure()\n",
    "plt.xlabel('Latency (ms)')\n",
    "plt.ylabel('Throughput (mb/s)')\n",
    "plt.plot(tr_data[:,0],tr_data[:,1],'bx')\n",
    "plt.plot(tr_data[outliers,0],tr_data[outliers,1],'ro')\n",
    "plt.show()"
   ]
  },
  {
   "cell_type": "markdown",
   "metadata": {},
   "source": [
    "## Anomaly Detection Using One-Class SVM"
   ]
  },
  {
   "cell_type": "code",
   "execution_count": 9,
   "metadata": {},
   "outputs": [],
   "source": [
    "from sklearn import svm"
   ]
  },
  {
   "cell_type": "code",
   "execution_count": 10,
   "metadata": {},
   "outputs": [],
   "source": [
    "# use the same dataset\n",
    "#tr_data = read.dataset('tr_server_data.csv')"
   ]
  },
  {
   "cell_type": "code",
   "execution_count": 11,
   "metadata": {},
   "outputs": [
    {
     "data": {
      "text/plain": [
       "OneClassSVM(cache_size=200, coef0=0.0, degree=3, gamma=0.02, kernel='rbf',\n",
       "      max_iter=-1, nu=0.05, random_state=None, shrinking=True, tol=0.001,\n",
       "      verbose=False)"
      ]
     },
     "execution_count": 11,
     "metadata": {},
     "output_type": "execute_result"
    }
   ],
   "source": [
    "clf = svm.OneClassSVM(nu=0.05, kernel=\"rbf\", gamma=0.02)\n",
    "clf.fit(tr_data)"
   ]
  },
  {
   "cell_type": "code",
   "execution_count": 39,
   "metadata": {},
   "outputs": [
    {
     "name": "stdout",
     "output_type": "stream",
     "text": [
      "[[300 301 303 304 305 306]]\n"
     ]
    }
   ],
   "source": [
    "print(outliers)"
   ]
  },
  {
   "cell_type": "code",
   "execution_count": 12,
   "metadata": {},
   "outputs": [],
   "source": [
    "pred = clf.predict(tr_data)\n",
    "\n",
    "# inliers are labeled 1, outliers are labeled -1\n",
    "normal = tr_data[pred == 1]\n",
    "abnormal = tr_data[pred == -1]"
   ]
  },
  {
   "cell_type": "code",
   "execution_count": 13,
   "metadata": {},
   "outputs": [
    {
     "data": {
      "image/png": "[encoded data removed]",
      "text/plain": [
       "<matplotlib.figure.Figure at 0x7f09657166d8>"
      ]
     },
     "metadata": {},
     "output_type": "display_data"
    }
   ],
   "source": [
    "plt.figure()\n",
    "plt.plot(normal[:,0],normal[:,1],'bx')\n",
    "plt.plot(abnormal[:,0],abnormal[:,1],'ro')\n",
    "plt.xlabel('Latency (ms)')\n",
    "plt.ylabel('Throughput (mb/s)')\n",
    "plt.show()"
   ]
  },
  {
   "cell_type": "code",
   "execution_count": 14,
   "metadata": {},
   "outputs": [
    {
     "data": {
      "text/plain": [
       "array([4.18169654e-02, 8.31789160e-02, 3.73037660e-02, 5.95252816e-02,\n",
       "       7.35257917e-02, 4.65530672e-02, 5.92412887e-02, 8.49528731e-02,\n",
       "       1.86002593e-02, 7.76503205e-02, 7.89929418e-02, 4.17364352e-02,\n",
       "       5.64785909e-02, 1.13405415e-02, 5.74770457e-02, 4.00392748e-02,\n",
       "       4.72405924e-02, 5.58558578e-02, 7.51998028e-02, 4.18329157e-02,\n",
       "       8.76923923e-02, 3.05861196e-02, 8.49746753e-02, 7.14814751e-02,\n",
       "       7.56243522e-02, 8.41515772e-02, 3.97801343e-02, 7.32984678e-02,\n",
       "       3.91154008e-02, 6.83673355e-02, 8.42015240e-02, 6.36305268e-02,\n",
       "       7.29075660e-02, 8.91863083e-02, 6.40971063e-02, 7.25035470e-02,\n",
       "       6.42055318e-02, 2.01517011e-02, 5.45263741e-02, 8.75013575e-02,\n",
       "       5.37601966e-02, 3.35705795e-02, 6.60170067e-02, 8.45326572e-02,\n",
       "       8.94745485e-02, 7.64166486e-02, 3.57383843e-02, 8.49897453e-02,\n",
       "       7.57571421e-02, 5.98784447e-02, 4.50951057e-02, 8.96604107e-02,\n",
       "       7.66791126e-02, 7.62224509e-02, 4.58629132e-02, 7.27542027e-02,\n",
       "       7.16340769e-02, 6.11899854e-02, 3.84561718e-02, 6.65605994e-02,\n",
       "       8.89741060e-02, 4.80171710e-02, 8.16714863e-02, 4.22644156e-02,\n",
       "       6.23910000e-02, 4.75150069e-02, 6.71223015e-02, 8.91254111e-02,\n",
       "       2.74284379e-02, 7.87183213e-02, 5.56010040e-02, 8.55909929e-02,\n",
       "       3.63770525e-02, 8.77807055e-02, 7.84312842e-02, 7.82788768e-02,\n",
       "       4.87867260e-02, 5.13722262e-02, 1.21305206e-02, 5.70692658e-02,\n",
       "       3.71077081e-02, 7.28386315e-02, 7.04765303e-02, 6.59277536e-02,\n",
       "       7.91811035e-02, 7.47023751e-02, 3.91526612e-02, 7.25898102e-02,\n",
       "       7.27355595e-02, 9.02299396e-02, 6.98121945e-02, 4.12299692e-02,\n",
       "       7.45065550e-02, 5.60526859e-02, 5.56644625e-02, 3.81052410e-02,\n",
       "       6.44258350e-02, 7.73498398e-02, 6.91525349e-02, 7.67857032e-02,\n",
       "       6.54107167e-02, 7.69611997e-02, 7.86457618e-02, 8.07919437e-02,\n",
       "       7.13380850e-02, 5.26936490e-02, 3.47939458e-02, 9.03294151e-02,\n",
       "       3.20604408e-02, 8.28247445e-02, 8.36412394e-02, 4.78214156e-02,\n",
       "       1.76415898e-02, 6.46459992e-02, 2.99251778e-02, 4.41895905e-02,\n",
       "       7.44195034e-02, 7.68205815e-02, 6.58501593e-02, 8.59747857e-02,\n",
       "       6.47195048e-02, 5.00530766e-02, 8.98282357e-02, 7.31248759e-02,\n",
       "       7.83199315e-02, 6.55876093e-02, 1.76961807e-02, 5.97341190e-03,\n",
       "       8.13861270e-02, 8.10421757e-02, 8.85775852e-02, 6.33260127e-02,\n",
       "       2.88013722e-02, 7.64431361e-02, 8.05634276e-02, 6.75875230e-02,\n",
       "       7.22660071e-03, 5.29822551e-02, 1.08362561e-02, 7.24299204e-02,\n",
       "       5.42008237e-02, 7.26134855e-02, 7.81968651e-02, 7.88833190e-02,\n",
       "       7.60201848e-02, 8.27704784e-02, 6.54159057e-02, 6.88023052e-02,\n",
       "       3.89667027e-02, 8.36042320e-02, 3.69573997e-02, 8.75332871e-02,\n",
       "       5.66206701e-02, 4.99773343e-02, 7.75376019e-02, 5.03217274e-02,\n",
       "       8.86494973e-02, 8.60701894e-02, 7.34000328e-02, 8.67002160e-02,\n",
       "       7.92197513e-02, 3.93098906e-02, 2.23966236e-02, 5.39736923e-02,\n",
       "       6.71216343e-02, 6.62345458e-02, 5.95383606e-02, 8.49350494e-02,\n",
       "       9.06348726e-03, 5.22647354e-02, 5.95687290e-02, 4.45228354e-02,\n",
       "       4.86587876e-02, 5.44479975e-02, 2.36213816e-02, 8.05516533e-02,\n",
       "       2.57631091e-02, 6.24219491e-02, 6.93741071e-02, 7.60925227e-02,\n",
       "       9.03620133e-02, 3.52762307e-02, 1.82097051e-02, 7.03016340e-02,\n",
       "       7.67395572e-02, 6.79931596e-02, 7.03149787e-02, 6.95107658e-02,\n",
       "       3.28989195e-02, 7.92000141e-02, 2.62716927e-02, 8.60297289e-02,\n",
       "       2.62678839e-03, 7.67404470e-02, 6.61981048e-02, 8.39139093e-02,\n",
       "       5.19737737e-02, 8.36736469e-02, 6.63173260e-02, 3.16036126e-02,\n",
       "       5.85548956e-02, 4.03540117e-02, 7.93993495e-02, 3.46953109e-02,\n",
       "       8.45842013e-02, 4.25554350e-02, 3.93750499e-02, 7.68825001e-02,\n",
       "       7.59072194e-02, 8.30634252e-02, 8.44940502e-02, 4.48300351e-02,\n",
       "       7.27892084e-02, 3.04105110e-02, 8.12925805e-02, 3.73290890e-02,\n",
       "       1.76887877e-02, 8.36713774e-02, 3.97557419e-02, 4.66137153e-02,\n",
       "       8.21409192e-02, 9.00665296e-02, 4.92158881e-02, 8.59750114e-02,\n",
       "       2.05584231e-02, 7.31855541e-02, 7.69895723e-02, 6.83778962e-02,\n",
       "       5.16057237e-02, 8.61471472e-02, 5.89010204e-02, 6.90508740e-02,\n",
       "       7.69488431e-02, 5.99943553e-02, 4.93547144e-02, 8.35138038e-03,\n",
       "       2.03946472e-02, 8.58216032e-02, 5.31481010e-02, 4.72440394e-02,\n",
       "       8.62030297e-02, 2.23504034e-02, 2.08491726e-02, 8.24725907e-02,\n",
       "       7.25756790e-02, 2.40119877e-02, 3.02767561e-04, 3.13817210e-02,\n",
       "       2.79076578e-02, 8.19478373e-02, 6.70258735e-02, 7.69725846e-02,\n",
       "       2.33644206e-02, 7.91232419e-02, 2.83487066e-02, 8.34922396e-02,\n",
       "       1.87381224e-02, 3.97733408e-02, 6.48251438e-02, 4.99824464e-02,\n",
       "       8.75508703e-02, 9.52383537e-03, 6.95157366e-02, 6.74509566e-02,\n",
       "       8.73363184e-02, 7.74493778e-02, 6.04169604e-02, 6.05614950e-02,\n",
       "       4.89127835e-02, 8.47204011e-02, 2.60700932e-02, 5.29161635e-02,\n",
       "       8.05273957e-02, 8.13523138e-02, 4.05206558e-02, 1.99381741e-02,\n",
       "       5.25230082e-02, 5.96269614e-02, 7.07785972e-02, 5.40542618e-02,\n",
       "       6.97481471e-02, 3.69749608e-02, 5.55038160e-02, 2.16824507e-02,\n",
       "       4.91929474e-02, 4.07364681e-02, 6.50084104e-02, 2.54335802e-02,\n",
       "       8.25646601e-02, 8.25531319e-02, 8.63612608e-02, 8.36081590e-02,\n",
       "       2.29815760e-02, 4.39734208e-02, 7.36234032e-02, 4.49883082e-02,\n",
       "       5.45603624e-02, 6.59708274e-02, 6.86462909e-02, 6.40766246e-02,\n",
       "       1.11348560e-06, 2.40242184e-05, 9.26111272e-41, 2.01510797e-35,\n",
       "       2.38751841e-05, 7.67825878e-11, 2.87580659e-05])"
      ]
     },
     "execution_count": 14,
     "metadata": {},
     "output_type": "execute_result"
    }
   ],
   "source": [
    "p_cv"
   ]
  },
  {
   "cell_type": "code",
   "execution_count": 40,
   "metadata": {},
   "outputs": [
    {
     "data": {
      "image/png": "[encoded data removed]",
      "text/plain": [
       "<matplotlib.figure.Figure at 0x7f096806f978>"
      ]
     },
     "metadata": {},
     "output_type": "display_data"
    }
   ],
   "source": [
    "plt.scatter(p_cv,range(0,307))\n",
    "plt.scatter(max(p_cv),max(p_cv),s=100)\n",
    "plt.scatter(ep+0.02,ep+0.02,s=100)\n",
    "\n",
    "\n",
    "plt.show()"
   ]
  },
  {
   "cell_type": "code",
   "execution_count": null,
   "metadata": {},
   "outputs": [],
   "source": []
  }
 ],
 "metadata": {
  "anaconda-cloud": {},
  "kernelspec": {
   "display_name": "Python 3",
   "language": "python",
   "name": "python3"
  },
  "language_info": {
   "codemirror_mode": {
    "name": "ipython",
    "version": 3
   },
   "file_extension": ".py",
   "mimetype": "text/x-python",
   "name": "python",
   "nbconvert_exporter": "python",
   "pygments_lexer": "ipython3",
   "version": "3.6.4"
  }
 },
 "nbformat": 4,
 "nbformat_minor": 1
}
