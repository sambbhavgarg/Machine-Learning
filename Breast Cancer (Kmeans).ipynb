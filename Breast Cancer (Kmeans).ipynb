{
 "cells": [
  {
   "cell_type": "code",
   "execution_count": 10,
   "metadata": {},
   "outputs": [],
   "source": [
    "import matplotlib.pyplot as plt\n",
    "import pandas as pd\n",
    "import random\n",
    "from matplotlib import style\n",
    "style.use('ggplot')\n",
    "import numpy as np\n",
    "import matplotlib.pyplot as plt\n",
    "import matplotlib.animation as animation\n",
    "import time"
   ]
  },
  {
   "cell_type": "code",
   "execution_count": 11,
   "metadata": {},
   "outputs": [
    {
     "data": {
      "image/png": "[encoded data removed]",
      "text/plain": [
       "<matplotlib.figure.Figure at 0x7f9ec7576710>"
      ]
     },
     "metadata": {},
     "output_type": "display_data"
    }
   ],
   "source": [
    "class K_Means:\n",
    "    fig = plt.figure()\n",
    "    ax1 = fig.add_subplot(1,1,1)\n",
    "    def __init__(self, k=2, tol=0.001, max_iter=300):\n",
    "        self.k = k\n",
    "        self.tol = tol\n",
    "        self.max_iter = max_iter\n",
    "        \n",
    "            \n",
    "    def fit(self,data):\n",
    "        #centroid dict\n",
    "        self.centroids = {}\n",
    "        # since k=2 we will select first two points from the data and we will declare that as a centroid\n",
    "        \n",
    "        self.track={}\n",
    "        for i in range(self.k):\n",
    "            self.track[i]=[]\n",
    "        \n",
    "        for i in range(self.k):\n",
    "            self.centroids[i] = data[i]\n",
    "            self.track[i].append(data[i])\n",
    "            \n",
    "        # we will run this loop for 300 times (300 iteration)\n",
    "        for i in range(self.max_iter):\n",
    "            self.classifications = {}  #{0: [], 1: []}\n",
    "\n",
    "            for i in range(self.k):\n",
    "                self.classifications[i] = []\n",
    "\n",
    "            for featureset in data:  #finding distance from centroid , finding mini value , putting them in classification\n",
    "                distances = [np.linalg.norm(featureset - self.centroids[centroid]) for centroid in \n",
    "                                                                                    self.centroids]\n",
    "                classification = distances.index(min(distances)) #find the index of the min distance\n",
    "\n",
    "                self.classifications[classification].append(featureset)\n",
    "    \n",
    "\n",
    "            prev_centroids = dict(self.centroids)\n",
    "                            \n",
    "            for classification in self.classifications:\n",
    "\n",
    "                self.centroids[classification] = np.average(self.classifications[classification],axis=0)\n",
    "                self.track[classification].append(np.average(self.classifications[classification],axis=0))\n",
    "                #print(self.centroids)\n",
    "            optimized = True\n",
    "         \n",
    "            for c in self.centroids:\n",
    "                original_centroid = prev_centroids[c]\n",
    "                current_centroid = self.centroids[c]\n",
    "                if np.sum((current_centroid-original_centroid)/original_centroid*100.0) > self.tol:\n",
    "                    optimized = False\n",
    "            \n",
    "            #ani = animation.FuncAnimation(self.fig, animate, interval=1000)\n",
    "            #plt.show()\n",
    "            \n",
    "            if optimized:\n",
    "                break\n",
    "                \n",
    "            \n",
    "    def predict(self,data):\n",
    "        distances = [np.linalg.norm(data-self.centroids[centroid]) for centroid in self.centroids]\n",
    "        #print(distances)\n",
    "        classification = distances.index(min(distances))\n",
    "        return classification"
   ]
  },
  {
   "cell_type": "code",
   "execution_count": 12,
   "metadata": {},
   "outputs": [],
   "source": [
    "df = pd.read_csv('Dataset.csv')\n",
    "original_df = pd.DataFrame.copy(df)\n",
    "df.replace('?',0, inplace=True)\n",
    "df.drop(['id'], 1, inplace=True)\n",
    "df.drop(['label'], 1, inplace=True)\n",
    "full_data = df.astype(float).values.tolist()"
   ]
  },
  {
   "cell_type": "code",
   "execution_count": 13,
   "metadata": {},
   "outputs": [
    {
     "data": {
      "text/plain": [
       "0"
      ]
     },
     "execution_count": 13,
     "metadata": {},
     "output_type": "execute_result"
    }
   ],
   "source": [
    "train = full_data[:int(0.8*len(full_data))]\n",
    "test = full_data[int(0.8*len(full_data)):]\n",
    "clf = K_Means()\n",
    "clf.fit(np.array(train))\n",
    "clf.predict(np.array(test))"
   ]
  },
  {
   "cell_type": "code",
   "execution_count": 7,
   "metadata": {},
   "outputs": [],
   "source": [
    "labels = original_df['label'].tolist()[int(0.8*len(full_data)):]\n",
    "test_output = []\n",
    "for i in labels:\n",
    "    if i == 2:\n",
    "        test_output.append(0)\n",
    "    else:\n",
    "        test_output.append(1)"
   ]
  },
  {
   "cell_type": "code",
   "execution_count": 8,
   "metadata": {},
   "outputs": [
    {
     "name": "stdout",
     "output_type": "stream",
     "text": [
      "1.0\n"
     ]
    }
   ],
   "source": [
    "correct = 0\n",
    "total = 0\n",
    "for i in range(len(test)):\n",
    "    if(clf.predict(test[i]) == test_output[i]):\n",
    "        correct+=1\n",
    "    total += 1\n",
    "print(correct/total)"
   ]
  },
  {
   "cell_type": "code",
   "execution_count": null,
   "metadata": {},
   "outputs": [],
   "source": []
  },
  {
   "cell_type": "code",
   "execution_count": null,
   "metadata": {},
   "outputs": [],
   "source": []
  }
 ],
 "metadata": {
  "kernelspec": {
   "display_name": "Python 3",
   "language": "python",
   "name": "python3"
  },
  "language_info": {
   "codemirror_mode": {
    "name": "ipython",
    "version": 3
   },
   "file_extension": ".py",
   "mimetype": "text/x-python",
   "name": "python",
   "nbconvert_exporter": "python",
   "pygments_lexer": "ipython3",
   "version": "3.6.4"
  }
 },
 "nbformat": 4,
 "nbformat_minor": 2
}
