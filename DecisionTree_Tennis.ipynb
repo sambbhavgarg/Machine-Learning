{
 "cells": [
  {
   "cell_type": "code",
   "execution_count": 3,
   "metadata": {},
   "outputs": [],
   "source": [
    "header=[\"outlook\",\"temperature\",\"humidity\",\"wind\",\"decision\"]\n",
    "\n",
    "training_data=[\n",
    "['sunny','hot','high','weak','no'],\n",
    "['sunny','hot','high','strong','no'],\n",
    "['overcast','hot','high','weak','yes'],\n",
    "['rain','mild','high','weak','yes'],\n",
    "['rain','cool','normal','weak','yes'],\n",
    "['rain','cool','normal','strong','no'],\n",
    "['overcast','cool','normal','strong','yes'],\n",
    "['sunny','mild','high','weak','no'],\n",
    "['sunny','cool','normal','weak','yes'],\n",
    "['rain','mild','normal','weak','yes'],\n",
    "['sunny','mild','normal','strong','yes'],\n",
    "['overcast','mild','high','strong','yes'],\n",
    "['overcast','hot','normal','weak','yes'],\n",
    "['rain','mild','high','strong','no'],\n",
    "]"
   ]
  },
  {
   "cell_type": "code",
   "execution_count": 21,
   "metadata": {},
   "outputs": [
    {
     "data": {
      "text/plain": [
       "{'no', 'yes'}"
      ]
     },
     "execution_count": 21,
     "metadata": {},
     "output_type": "execute_result"
    }
   ],
   "source": [
    "def unival(data,col):\n",
    "    return set([row[col] for row in data])\n",
    "unival(training_data,4)\n",
    "#set eliminates duplicates"
   ]
  },
  {
   "cell_type": "code",
   "execution_count": 22,
   "metadata": {},
   "outputs": [],
   "source": [
    "def class_counts(data):\n",
    "    counts={}\n",
    "    for rows in data:\n",
    "        label=rows[-1]\n",
    "        if label not in counts:\n",
    "            counts[label]=0\n",
    "        counts[label]+=1\n",
    "    return counts"
   ]
  },
  {
   "cell_type": "code",
   "execution_count": 23,
   "metadata": {},
   "outputs": [
    {
     "data": {
      "text/plain": [
       "{'no': 5, 'yes': 9}"
      ]
     },
     "execution_count": 23,
     "metadata": {},
     "output_type": "execute_result"
    }
   ],
   "source": [
    "class_counts(training_data)"
   ]
  },
  {
   "cell_type": "code",
   "execution_count": 7,
   "metadata": {},
   "outputs": [],
   "source": [
    "class Question:\n",
    "    \n",
    "    def __init__(self,column,value):#2nd column, hot\n",
    "                                                                                        \n",
    "        self.column=column\n",
    "        self.value=value\n",
    "        \n",
    "    def match(self,example): #second column of training data\n",
    "        val=example[self.column] #val=2nd column values\n",
    "        return val==self.value #return if val==self.value\n",
    "    \n",
    "    def __repr__(self):\n",
    "        return \"is %s %s %s?\" %(\n",
    "                                header[self.column],\"==\",str(self.value))"
   ]
  },
  {
   "cell_type": "code",
   "execution_count": 8,
   "metadata": {},
   "outputs": [
    {
     "data": {
      "text/plain": [
       "is wind == cool?"
      ]
     },
     "execution_count": 8,
     "metadata": {},
     "output_type": "execute_result"
    }
   ],
   "source": [
    "Question(3,'cool')"
   ]
  },
  {
   "cell_type": "code",
   "execution_count": 9,
   "metadata": {},
   "outputs": [],
   "source": [
    "q=Question(4,'yes')#4 is col no."
   ]
  },
  {
   "cell_type": "code",
   "execution_count": 10,
   "metadata": {},
   "outputs": [
    {
     "data": {
      "text/plain": [
       "True"
      ]
     },
     "execution_count": 10,
     "metadata": {},
     "output_type": "execute_result"
    }
   ],
   "source": [
    "q.match(training_data[3])# 3 is row number"
   ]
  },
  {
   "cell_type": "code",
   "execution_count": 11,
   "metadata": {},
   "outputs": [],
   "source": [
    "def partition(rows,question):\n",
    "    true_rows,false_rows=[],[]\n",
    "    for row in rows:\n",
    "        if question.match(row):\n",
    "            true_rows.append(row)\n",
    "        else:\n",
    "            false_rows.append(row)\n",
    "    return true_rows,false_rows"
   ]
  },
  {
   "cell_type": "code",
   "execution_count": 12,
   "metadata": {},
   "outputs": [],
   "source": [
    "true_rows, false_rows=partition(training_data,q)"
   ]
  },
  {
   "cell_type": "code",
   "execution_count": 13,
   "metadata": {},
   "outputs": [
    {
     "data": {
      "text/plain": [
       "[['overcast', 'hot', 'high', 'weak', 'yes'],\n",
       " ['rain', 'mild', 'high', 'weak', 'yes'],\n",
       " ['rain', 'cool', 'normal', 'weak', 'yes'],\n",
       " ['overcast', 'cool', 'normal', 'strong', 'yes'],\n",
       " ['sunny', 'cool', 'normal', 'weak', 'yes'],\n",
       " ['rain', 'mild', 'normal', 'weak', 'yes'],\n",
       " ['sunny', 'mild', 'normal', 'strong', 'yes'],\n",
       " ['overcast', 'mild', 'high', 'strong', 'yes'],\n",
       " ['overcast', 'hot', 'normal', 'weak', 'yes']]"
      ]
     },
     "execution_count": 13,
     "metadata": {},
     "output_type": "execute_result"
    }
   ],
   "source": [
    "true_rows"
   ]
  },
  {
   "cell_type": "code",
   "execution_count": 14,
   "metadata": {},
   "outputs": [
    {
     "data": {
      "text/plain": [
       "[['sunny', 'hot', 'high', 'weak', 'no'],\n",
       " ['sunny', 'hot', 'high', 'strong', 'no'],\n",
       " ['rain', 'cool', 'normal', 'strong', 'no'],\n",
       " ['sunny', 'mild', 'high', 'weak', 'no'],\n",
       " ['rain', 'mild', 'high', 'strong', 'no']]"
      ]
     },
     "execution_count": 14,
     "metadata": {},
     "output_type": "execute_result"
    }
   ],
   "source": [
    "false_rows"
   ]
  },
  {
   "cell_type": "code",
   "execution_count": 15,
   "metadata": {},
   "outputs": [],
   "source": [
    "def gini(rows):\n",
    "    counts=class_counts(rows)\n",
    "    impurity=1\n",
    "    for lbl in counts:\n",
    "        prob_lbl=counts[lbl]/float(len(rows))\n",
    "        impurity-=prob_lbl**2\n",
    "    return impurity"
   ]
  },
  {
   "cell_type": "code",
   "execution_count": 16,
   "metadata": {},
   "outputs": [
    {
     "data": {
      "text/plain": [
       "0.4591836734693877"
      ]
     },
     "execution_count": 16,
     "metadata": {},
     "output_type": "execute_result"
    }
   ],
   "source": [
    "gini(training_data)"
   ]
  },
  {
   "cell_type": "code",
   "execution_count": 24,
   "metadata": {},
   "outputs": [],
   "source": [
    "def info_gain(left,right,curr_uncertainty):\n",
    "    print(gini(left))\n",
    "    print(gini(right))\n",
    "    p=float(len(left))/(len(left)+len(right))\n",
    "    return curr_uncertainty-p*gini(left)-((1-p)*gini(right))\n"
   ]
  },
  {
   "cell_type": "code",
   "execution_count": 25,
   "metadata": {},
   "outputs": [],
   "source": [
    "true_rows,false_rows=partition(training_data,q)"
   ]
  },
  {
   "cell_type": "code",
   "execution_count": 26,
   "metadata": {},
   "outputs": [
    {
     "name": "stdout",
     "output_type": "stream",
     "text": [
      "0.0\n",
      "0.0\n"
     ]
    },
    {
     "data": {
      "text/plain": [
       "0.4591836734693877"
      ]
     },
     "execution_count": 26,
     "metadata": {},
     "output_type": "execute_result"
    }
   ],
   "source": [
    "info_gain(true_rows,false_rows,gini(training_data))"
   ]
  },
  {
   "cell_type": "code",
   "execution_count": 30,
   "metadata": {},
   "outputs": [],
   "source": [
    "def find_best_que(rows):\n",
    "    best_gain=0\n",
    "    best_question=0\n",
    "    curr_uncertainty=gini(rows)\n",
    "    n_features=len(rows[0])-1\n",
    "    for col in range(n_features):\n",
    "        values=unival(rows,col)\n",
    "        for val in values:\n",
    "            question=Question(col,val)\n",
    "            true_rows,false_rows=partition(rows,question)\n",
    "            if len(true_rows)==0 or len(false_rows)==0:\n",
    "                continue #increments val by 1?\n",
    "            gain=info_gain(true_rows,false_rows,curr_uncertainty)\n",
    "            print(gain)\n",
    "            if gain>best_gain:\n",
    "                best_gain,best_question=gain,question\n",
    "    return best_gain,best_question\n",
    "            "
   ]
  },
  {
   "cell_type": "code",
   "execution_count": 31,
   "metadata": {},
   "outputs": [
    {
     "name": "stdout",
     "output_type": "stream",
     "text": [
      "0.48\n",
      "0.345679012345679\n",
      "0.0655328798185941\n",
      "0.48\n",
      "0.4444444444444444\n",
      "0.0020408163265306367\n",
      "0.0\n",
      "0.5\n",
      "0.10204081632653056\n",
      "0.375\n",
      "0.48\n",
      "0.009183673469387699\n",
      "0.5\n",
      "0.42000000000000004\n",
      "0.016326530612244816\n",
      "0.4444444444444445\n",
      "0.46875\n",
      "0.000850340136054395\n",
      "0.48979591836734704\n",
      "0.24489795918367355\n",
      "0.09183673469387742\n",
      "0.24489795918367355\n",
      "0.48979591836734704\n",
      "0.09183673469387743\n",
      "0.375\n",
      "0.5\n",
      "0.030612244897959134\n",
      "0.5\n",
      "0.375\n",
      "0.030612244897959162\n"
     ]
    }
   ],
   "source": [
    "best_gain,best_question=find_best_que(training_data)"
   ]
  },
  {
   "cell_type": "code",
   "execution_count": 32,
   "metadata": {},
   "outputs": [
    {
     "name": "stdout",
     "output_type": "stream",
     "text": [
      "0.10204081632653056\n",
      "is outlook == overcast?\n"
     ]
    }
   ],
   "source": [
    "print(best_gain)\n",
    "print(best_question)"
   ]
  },
  {
   "cell_type": "code",
   "execution_count": null,
   "metadata": {},
   "outputs": [],
   "source": []
  }
 ],
 "metadata": {
  "kernelspec": {
   "display_name": "Python 3",
   "language": "python",
   "name": "python3"
  },
  "language_info": {
   "codemirror_mode": {
    "name": "ipython",
    "version": 3
   },
   "file_extension": ".py",
   "mimetype": "text/x-python",
   "name": "python",
   "nbconvert_exporter": "python",
   "pygments_lexer": "ipython3",
   "version": "3.6.4"
  }
 },
 "nbformat": 4,
 "nbformat_minor": 2
}
