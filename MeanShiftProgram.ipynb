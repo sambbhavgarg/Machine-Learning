{
 "cells": [
  {
   "cell_type": "markdown",
   "metadata": {},
   "source": [
    "\n",
    "\n",
    "## MeanShift - Clustering Algo for unSupervised Learning"
   ]
  },
  {
   "cell_type": "code",
   "execution_count": 2,
   "metadata": {},
   "outputs": [
    {
     "data": {
      "image/png": "[encoded data removed]",
      "text/plain": [
       "<matplotlib.figure.Figure at 0x7ff4f06c88d0>"
      ]
     },
     "metadata": {},
     "output_type": "display_data"
    }
   ],
   "source": [
    "import matplotlib.pyplot as plt\n",
    "from matplotlib import style\n",
    "style.use('ggplot')\n",
    "import numpy as np\n",
    "\n",
    "X = np.array([[1, 2],\n",
    "              [1.5, 1.8],\n",
    "              [5, 8 ],\n",
    "              [8, 8],\n",
    "              [1, 0.6],\n",
    "              [9,11],\n",
    "              [8,2],\n",
    "              [10,2],\n",
    "              [9,3],])\n",
    "\n",
    "plt.scatter(X[:,0], X[:,1], s=150)\n",
    "plt.show()\n",
    "\n",
    "colors = 10*[\"g\",\"r\",\"c\",\"b\",\"k\"]"
   ]
  },
  {
   "cell_type": "markdown",
   "metadata": {},
   "source": [
    "Make all datapoints centroids\n",
    "Take mean of all featuresets within centroid's radius, setting this mean as new centroid.\n",
    "Repeat step #2 until convergence."
   ]
  },
  {
   "cell_type": "code",
   "execution_count": 11,
   "metadata": {},
   "outputs": [
    {
     "name": "stdout",
     "output_type": "stream",
     "text": [
      "[(1.1666666666666667, 1.4666666666666666), (6.5, 8.0), (7.333333333333333, 9.0), (8.5, 9.5), (9.0, 2.3333333333333335)]\n",
      "[(1.1666666666666667, 1.4666666666666666), (7.333333333333333, 9.0), (9.0, 2.3333333333333335)]\n",
      "[(1.1666666666666667, 1.4666666666666666), (7.333333333333333, 9.0), (9.0, 2.3333333333333335)]\n"
     ]
    },
    {
     "data": {
      "image/png": "[encoded data removed]",
      "text/plain": [
       "<matplotlib.figure.Figure at 0x7ff4f06cb7b8>"
      ]
     },
     "metadata": {},
     "output_type": "display_data"
    }
   ],
   "source": [
    "import matplotlib.pyplot as plt\n",
    "from matplotlib import style\n",
    "style.use('ggplot')\n",
    "import numpy as np\n",
    "\n",
    "X = np.array([[1, 2],\n",
    "              [1.5, 1.8],\n",
    "              [5, 8 ],\n",
    "              [8, 8],\n",
    "              [1, 0.6],\n",
    "              [9,11],\n",
    "              [8,2],\n",
    "              [10,2],\n",
    "              [9,3],])\n",
    "\n",
    "##plt.scatter(X[:,0], X[:,1], s=150)\n",
    "##plt.show()\n",
    "\n",
    "colors = 10*[\"g\",\"r\",\"c\",\"b\",\"k\"]\n",
    "\n",
    "class Mean_Shift:\n",
    "    def __init__(self, radius=5):\n",
    "        self.radius = radius\n",
    "\n",
    "    def fit(self, data):\n",
    "        centroids = {} #dictionary mein har iter ke liye ek pt.\n",
    "\n",
    "        for i in range(len(data)):\n",
    "            centroids[i] = data[i]#har point ko centroid banaya\n",
    " #           \n",
    " #check distance between all pts for every iteration. if distance<bandwidth, append in bandwidth, \n",
    " #average of all distances in bandwidth -> append in new centroids\n",
    "        while True:        \n",
    "            new_centroids = []#har iter pe empty\n",
    "            for i in centroids:\n",
    "                in_bandwidth = []\n",
    "                centroid = centroids[i]#dictionary ki values centroid mein store\n",
    "                for featureset in data:\n",
    "                    if np.linalg.norm(featureset-centroid) < self.radius:\n",
    "                        in_bandwidth.append(featureset)\n",
    "\n",
    "                new_centroid = np.average(in_bandwidth,axis=0)\n",
    "                new_centroids.append(tuple(new_centroid))#tuple:?\n",
    "#turn new_centroids into a sorted list, pass cent dict into pre_centroids and empty centroids. \n",
    "#transfer unique as array to empty centroids\n",
    "            uniques = sorted(list(set(new_centroids)))\n",
    "            print(uniques)\n",
    "            prev_centroids = dict(centroids)\n",
    "            centroids = {}\n",
    "            for i in range(len(uniques)):\n",
    "                centroids[i] = np.array(uniques[i])\n",
    "            optimized = True\n",
    "            \n",
    "            for i in centroids:\n",
    "                #if centroids(in prev and centroids) are same(All) then loop will complete. if first one is not matched,\n",
    "                #go to next centroid pair comparison in this for. procedure to optimize comparison\n",
    "                if (np.array_equal(centroids[i], prev_centroids[i])) != True: \n",
    "                #[(np.array_equal(centroids[i], prev_centroids[i])) != True]=true if pair doesnt match\n",
    "                    optimized = False                 \n",
    "                if optimized != True: \n",
    "                    break\n",
    "            if optimized: #to break while\n",
    "                break\n",
    "        \n",
    "        self.centroids = centroids# finally centroids ko self mein dala\n",
    "\n",
    "clf = Mean_Shift()\n",
    "clf.fit(X)\n",
    "\n",
    "centroids = clf.centroids\n",
    "\n",
    "plt.scatter(X[:,0], X[:,1], s=150)\n",
    "\n",
    "for c in centroids:\n",
    "    plt.scatter(centroids[c][0], centroids[c][1], color='k', marker='*', s=150)\n",
    "\n",
    "plt.show()"
   ]
  },
  {
   "cell_type": "code",
   "execution_count": null,
   "metadata": {},
   "outputs": [],
   "source": []
  },
  {
   "cell_type": "code",
   "execution_count": null,
   "metadata": {},
   "outputs": [],
   "source": []
  }
 ],
 "metadata": {
  "kernelspec": {
   "display_name": "Python 3",
   "language": "python",
   "name": "python3"
  },
  "language_info": {
   "codemirror_mode": {
    "name": "ipython",
    "version": 3
   },
   "file_extension": ".py",
   "mimetype": "text/x-python",
   "name": "python",
   "nbconvert_exporter": "python",
   "pygments_lexer": "ipython3",
   "version": "3.6.4"
  }
 },
 "nbformat": 4,
 "nbformat_minor": 2
}
