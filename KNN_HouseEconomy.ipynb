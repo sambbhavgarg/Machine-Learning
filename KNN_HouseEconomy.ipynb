{
 "cells": [
  {
   "cell_type": "markdown",
   "metadata": {},
   "source": [
    "# KNN\n",
    "k nearest neighbour finds the nearest group of data having similar features in a group and finds the group for test data"
   ]
  },
  {
   "cell_type": "code",
   "execution_count": 2,
   "metadata": {},
   "outputs": [],
   "source": [
    "import numpy as np\n",
    "import matplotlib.pyplot as pltip\n",
    "from matplotlib import style\n",
    "import warnings\n",
    "from math import sqrt\n",
    "from collections import Counter\n",
    "style.use('fivethirtyeight')"
   ]
  },
  {
   "cell_type": "code",
   "execution_count": 10,
   "metadata": {},
   "outputs": [
    {
     "name": "stdout",
     "output_type": "stream",
     "text": [
      "2\n",
      "['r', 'r', 'r']\n",
      "Counter({'r': 3})\n",
      "r\n"
     ]
    }
   ],
   "source": [
    "dataset={'k':[[1,2],[2,3],[3,1]],'r':[[6,5],[7,7],[8,5]]}\n",
    "new_features=[5,7]\n",
    "\n",
    "def k_newneighb(data,predict,k=3): \n",
    "    print(len(data))\n",
    "    if len(data)>=k:\n",
    "        warnings.warn('K is set to a value less than the length of the dataset')\n",
    "    distances=[]\n",
    "    for group in data:\n",
    "        for features in data[group]:\n",
    "            euclidean_distance=np.linalg.norm(np.array(features)-np.array(predict))\n",
    "            distances.append([euclidean_distance,group])\n",
    "    #print(distances)\n",
    "    #print(sorted(distances))\n",
    "    #print(sorted(distances)[:k])\n",
    "    votes=[i[1] for i in sorted(distances)[:k]] #above three statements are doing exactly what this is, i[1] means second index in what the loop returns\n",
    "    print(votes)\n",
    "    print(Counter(votes))\n",
    "    vote_result=Counter(votes).most_common(2)[0][0]\n",
    "    return vote_result\n",
    "\n",
    "result = k_newneighb(dataset,new_features)\n",
    "print(result)\n",
    "   "
   ]
  },
  {
   "cell_type": "code",
   "execution_count": null,
   "metadata": {},
   "outputs": [],
   "source": []
  },
  {
   "cell_type": "code",
   "execution_count": null,
   "metadata": {},
   "outputs": [],
   "source": []
  }
 ],
 "metadata": {
  "kernelspec": {
   "display_name": "Python 3",
   "language": "python",
   "name": "python3"
  },
  "language_info": {
   "codemirror_mode": {
    "name": "ipython",
    "version": 3
   },
   "file_extension": ".py",
   "mimetype": "text/x-python",
   "name": "python",
   "nbconvert_exporter": "python",
   "pygments_lexer": "ipython3",
   "version": "3.6.4"
  }
 },
 "nbformat": 4,
 "nbformat_minor": 2
}
