{
 "cells": [
  {
   "cell_type": "code",
   "execution_count": 1,
   "metadata": {},
   "outputs": [],
   "source": [
    "import numpy as np\n",
    "import matplotlib.pyplot as plt\n",
    "from matplotlib import style\n",
    "import warnings\n",
    "from math import sqrt\n",
    "from collections import Counter\n",
    "from collections import defaultdict\n",
    "style.use('fivethirtyeight')\n",
    "import pandas as pd\n",
    "import random"
   ]
  },
  {
   "cell_type": "code",
   "execution_count": 24,
   "metadata": {},
   "outputs": [],
   "source": [
    "df = pd.read_csv('Dataset.csv')\n",
    "original_df = pd.DataFrame.copy(df)\n",
    "df.replace('?',-9999, inplace=True)\n",
    "df.drop(['id'], 1, inplace=True)\n",
    "df.drop(['label'], 1, inplace=True)\n",
    "full_data = df.astype(float).values.tolist()"
   ]
  },
  {
   "cell_type": "code",
   "execution_count": 25,
   "metadata": {},
   "outputs": [],
   "source": [
    "test_size=0.2\n",
    "train_data = full_data[:-int(test_size*len(full_data))]\n",
    "test_data = full_data[-int(test_size*len(full_data)):]\n"
   ]
  },
  {
   "cell_type": "code",
   "execution_count": 40,
   "metadata": {},
   "outputs": [],
   "source": [
    "class K_means:\n",
    " \n",
    "    def __init__(self, k=3, tol=0.001, max_iter=300):\n",
    "        self.k = k\n",
    "        self.tol = tol\n",
    "        self.max_iter = max_iter\n",
    "        \n",
    "            \n",
    "    def fit(self,data):\n",
    "        #centroid dict\n",
    "        self.centroids = {}\n",
    "        # since k=2 we will select first two points from the data and we will declare that as a centroid\n",
    "        \n",
    "        self.track={}\n",
    "        for i in range(self.k):\n",
    "            self.track[i]=[]\n",
    "        \n",
    "        for i in range(self.k):\n",
    "            self.centroids[i] = data[i]\n",
    "            self.track[i].append(data[i])\n",
    "            \n",
    "        # we will run this loop for 300 times (300 iteration)\n",
    "        for i in range(self.max_iter):\n",
    "            self.classifications = {}  #{2: [], 4: []}\n",
    "\n",
    "            for i in range(self.k):\n",
    "                self.classifications[i] = []\n",
    "\n",
    "            for featureset in data:  #finding distance from centroid , finding mini value , putting them in classification\n",
    "                distances = [np.linalg.norm(featureset - self.centroids[centroid]) for centroid in \n",
    "                                                                                    self.centroids]\n",
    "                classification = distances.index(min(distances)) #find the index of the min distance\n",
    "\n",
    "                self.classifications[classification].append(featureset)\n",
    "    \n",
    "\n",
    "            prev_centroids = dict(self.centroids)\n",
    "                            \n",
    "            for classification in self.classifications:\n",
    "\n",
    "                self.centroids[classification] = np.average(self.classifications[classification],axis=0)\n",
    "                self.track[classification].append(np.average(self.classifications[classification],axis=0))\n",
    "                #print(self.centroids)\n",
    "            optimized = True\n",
    "              \n",
    "            for c in self.centroids:\n",
    "                original_centroid = prev_centroids[c]\n",
    "                current_centroid = self.centroids[c]\n",
    "                if np.sum((current_centroid-original_centroid)/original_centroid*100.0) > self.tol:\n",
    "                    optimized = False\n",
    "          \n",
    "            if optimized:\n",
    "                break\n",
    "                \n",
    "            \n",
    "    def predict(self,data):\n",
    "        distances = [np.linalg.norm(data-self.centroids[centroid]) for centroid in self.centroids]\n",
    "        #print(distances)\n",
    "        classification = distances.index(min(distances))\n",
    "        return classification"
   ]
  },
  {
   "cell_type": "code",
   "execution_count": 41,
   "metadata": {},
   "outputs": [],
   "source": [
    "clf=K_means()"
   ]
  },
  {
   "cell_type": "code",
   "execution_count": 42,
   "metadata": {},
   "outputs": [],
   "source": [
    "clf.fit(np.array(train_data))"
   ]
  },
  {
   "cell_type": "code",
   "execution_count": 43,
   "metadata": {},
   "outputs": [
    {
     "data": {
      "text/plain": [
       "2"
      ]
     },
     "execution_count": 43,
     "metadata": {},
     "output_type": "execute_result"
    }
   ],
   "source": [
    "clf.predict(np.array(test_data))"
   ]
  },
  {
   "cell_type": "code",
   "execution_count": 50,
   "metadata": {},
   "outputs": [],
   "source": [
    "labels = original_df['label'].tolist()[:int(0.2*len(full_data))]\n",
    "#takes testing data corresponding to original data\n",
    "test_set = []\n",
    "for i in labels:\n",
    "    if i == 2:\n",
    "        test_set.append(0)\n",
    "    else:\n",
    "        test_set.append(1)"
   ]
  },
  {
   "cell_type": "code",
   "execution_count": 51,
   "metadata": {},
   "outputs": [
    {
     "name": "stdout",
     "output_type": "stream",
     "text": [
      "Acc: 1   55.39568345323741 %\n",
      "Acc: 2   43.884892086330936 %\n",
      "Acc: 3   8.633093525179856 %\n"
     ]
    }
   ],
   "source": [
    "acc=[]\n",
    "for i in range(1,4):\n",
    "    clf = K_means(k=i)\n",
    "    clf.fit(np.array(train_data))\n",
    "    correct = 0\n",
    "    total = 0\n",
    "    for j in range(len(test_data)):\n",
    "        if(clf.predict(test_data[j]) == test_set[j]):\n",
    "            correct+=1\n",
    "        total += 1\n",
    "    print(\"Acc:\",i,\" \",(correct/total)*100,\"%\")\n",
    "    acc.append(correct/total)"
   ]
  },
  {
   "cell_type": "code",
   "execution_count": 52,
   "metadata": {},
   "outputs": [
    {
     "data": {
      "image/png": "[encoded data removed]",
      "text/plain": [
       "<matplotlib.figure.Figure at 0x7f314253bcf8>"
      ]
     },
     "metadata": {},
     "output_type": "display_data"
    }
   ],
   "source": [
    "plt.plot([1,2,3],acc)\n",
    "plt.show()"
   ]
  },
  {
   "cell_type": "code",
   "execution_count": null,
   "metadata": {},
   "outputs": [],
   "source": []
  },
  {
   "cell_type": "code",
   "execution_count": null,
   "metadata": {},
   "outputs": [],
   "source": []
  }
 ],
 "metadata": {
  "kernelspec": {
   "display_name": "Python 3",
   "language": "python",
   "name": "python3"
  },
  "language_info": {
   "codemirror_mode": {
    "name": "ipython",
    "version": 3
   },
   "file_extension": ".py",
   "mimetype": "text/x-python",
   "name": "python",
   "nbconvert_exporter": "python",
   "pygments_lexer": "ipython3",
   "version": "3.6.4"
  }
 },
 "nbformat": 4,
 "nbformat_minor": 2
}
