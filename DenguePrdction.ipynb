{
 "cells": [
  {
   "cell_type": "code",
   "execution_count": 8,
   "metadata": {},
   "outputs": [
    {
     "name": "stdout",
     "output_type": "stream",
     "text": [
      "['a', 'b', 'c', 'd']\n",
      "a\n",
      "['H', 'H', 'H', 'L']\n",
      "--------------------\n",
      "b\n",
      "['L', 'M', 'L', 'L']\n",
      "--------------------\n",
      "c\n",
      "['L', 'L', 'L', 'H']\n",
      "--------------------\n",
      "d\n",
      "['H', 'H', 'H', 'M']\n",
      "--------------------\n",
      "['HIGH', 'LOW', 'LOW', 'HIGH']\n"
     ]
    }
   ],
   "source": [
    "city=['a','b','c','d']\n",
    "temp=[45,38,37,43]\n",
    "humidity=[70,60,40,80]\n",
    "rainfall=[80,50,40,90]\n",
    "population=[50,40,90,70]\n",
    "\n",
    "print(city)\n",
    "\n",
    "def modification(x):\n",
    "    HIGH=max(x)\n",
    "    LOW=min(x)\n",
    "    R=(HIGH-LOW)/3\n",
    "    p1=LOW+R\n",
    "    p2=p1+R\n",
    "    y=[]\n",
    "    for i in x:\n",
    "        if(i<p1):\n",
    "            y.append(\"L\")\n",
    "        elif(i>p2):\n",
    "            y.append(\"H\")\n",
    "        else:\n",
    "            y.append(\"M\")\n",
    "    return y\n",
    "\n",
    "mtemp=modification(temp)\n",
    "mhumid=modification(humidity)\n",
    "mrainf=modification(rainfall)\n",
    "mpop=modification(population)\n",
    "\n",
    "CD=[]\n",
    "\n",
    "for i in range(len(city)):\n",
    "    print(city[i])\n",
    "    temp=[]\n",
    "    \n",
    "    temp.append(mtemp[i])\n",
    "    temp.append(mhumid[i])\n",
    "    temp.append(mrainf[i])\n",
    "    temp.append(mpop[i])\n",
    "    print(temp)\n",
    "    if (temp.count('H')>=3):\n",
    "        CD.append(\"HIGH\")\n",
    "    elif(temp.count('L')>=3):\n",
    "        CD.append(\"LOW\")\n",
    "    else:\n",
    "        CD.append(\"MEDIUM\")\n",
    "    print(\"--------------------\")\n",
    "print (CD)        \n"
   ]
  },
  {
   "cell_type": "code",
   "execution_count": null,
   "metadata": {},
   "outputs": [],
   "source": []
  }
 ],
 "metadata": {
  "kernelspec": {
   "display_name": "Python 3",
   "language": "python",
   "name": "python3"
  },
  "language_info": {
   "codemirror_mode": {
    "name": "ipython",
    "version": 3
   },
   "file_extension": ".py",
   "mimetype": "text/x-python",
   "name": "python",
   "nbconvert_exporter": "python",
   "pygments_lexer": "ipython3",
   "version": "3.6.4"
  }
 },
 "nbformat": 4,
 "nbformat_minor": 2
}
